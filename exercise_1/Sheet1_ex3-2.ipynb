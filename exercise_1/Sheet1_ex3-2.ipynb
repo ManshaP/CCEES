{
 "cells": [
  {
   "cell_type": "markdown",
   "metadata": {},
   "source": [
    "\n",
    "## 3. Three-Dimensional Dynamical System\n",
    "\n",
    "Imagine a 3d-system with a fixpoint that is oscillatory and unstable.\n",
    "The oscillation must involve a two-dimensional subspace. How is it determined? \n",
    "\n",
    "\tTo determine the subspace, we can choose the fixpoint with a small perturbation as initial condition (it is unstable, so the perturbation will initially grow in time) and then look at the \t\n",
    "\tstate the system evolves to. \n",
    "\n",
    "What are the possibilities for the remaining subspace?\n",
    "\tTrajectories starting in the rest of space (not on the 2D-subspace) must either diverge or approach the 2D limit cycle."
   ]
  }
 ],
 "metadata": {
  "kernelspec": {
   "display_name": "Python 3",
   "language": "python",
   "name": "python3"
  },
  "language_info": {
   "codemirror_mode": {
    "name": "ipython",
    "version": 3
   },
   "file_extension": ".py",
   "mimetype": "text/x-python",
   "name": "python",
   "nbconvert_exporter": "python",
   "pygments_lexer": "ipython3",
   "version": "3.7.2"
  }
 },
 "nbformat": 4,
 "nbformat_minor": 2
}
