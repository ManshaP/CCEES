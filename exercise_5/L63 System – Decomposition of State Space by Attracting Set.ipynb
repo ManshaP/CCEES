{
 "cells": [
  {
   "cell_type": "code",
   "execution_count": 1,
   "metadata": {},
   "outputs": [],
   "source": [
    "import random\n",
    "import numpy as np\n",
    "import matplotlib.pyplot as plt\n",
    "import matplotlib.animation as animation\n",
    "import pandas as pd\n",
    "import threading\n",
    "import setuptools\n",
    "from numpy.linalg import norm\n",
    "import matplotlib as mpl\n",
    "\n",
    "from scipy.integrate import solve_ivp\n",
    "from mpl_toolkits.mplot3d import Axes3D\n",
    "from matplotlib.lines import Line2D\n",
    "from IPython.display import display, clear_output\n",
    "\n",
    "%matplotlib inline\n",
    "%load_ext cython"
   ]
  },
  {
   "cell_type": "code",
   "execution_count": 2,
   "metadata": {},
   "outputs": [],
   "source": [
    "%%cython\n",
    "# copy past some ODE solver in cython\n",
    "\n",
    "cimport cython\n",
    "import numpy as np\n",
    "cimport numpy as np\n",
    "\n",
    "\n",
    "cdef class Problem(object):\n",
    "    cdef int N\n",
    "    cdef double[:] dudt\n",
    "\n",
    "    def __init__(self, int N):\n",
    "        self.N = N\n",
    "        self.dudt = np.zeros(N)\n",
    "\n",
    "    cpdef double[:] rhs(self, double[:] u, double t):\n",
    "        return np.zeros(self.N)\n",
    "\n",
    "cdef class Method(object):\n",
    "    cdef int N\n",
    "    cdef double[:] step_result\n",
    "    cdef double[:] rhs\n",
    "\n",
    "    def __init__(self, N):\n",
    "        self.N = N\n",
    "        self.step_result = np.zeros((N,), dtype=np.double)\n",
    "        self.rhs = np.zeros((N,), dtype=np.double)\n",
    "\n",
    "    @cython.boundscheck(False)\n",
    "    @cython.wraparound(False)\n",
    "    cdef void step(self, double[:,::1] result, int i, int j, Problem f, double t, double dt):\n",
    "        pass\n",
    "\n",
    "cdef class MethodRK4(Method):\n",
    "    cdef double[:] k1\n",
    "    cdef double[:] k2\n",
    "    cdef double[:] k3\n",
    "    cdef double[:] tmp\n",
    "    cdef double* k1p\n",
    "    cdef double* k2p\n",
    "    cdef double* k3p\n",
    "    cdef double* tmpp\n",
    "\n",
    "    def __init__(self, N):\n",
    "        super(MethodRK4, self).__init__(N)\n",
    "        self.k1 = np.zeros((N,), dtype=np.double)\n",
    "        self.k2 = np.zeros((N,), dtype=np.double)\n",
    "        self.k3 = np.zeros((N,), dtype=np.double)\n",
    "        self.tmp = np.zeros((N,), dtype=np.double)\n",
    "        self.k1p = &self.k1[0]\n",
    "        self.k2p = &self.k2[0]\n",
    "        self.k3p = &self.k3[0]\n",
    "        self.tmpp = &self.tmp[0]\n",
    "\n",
    "    @cython.boundscheck(False)\n",
    "    @cython.wraparound(False)\n",
    "    cdef void step(self, double[:,::1] result, int i, int j, Problem f, double t, double dt):\n",
    "        cdef double *pptr = &result[j, 0]\n",
    "        cdef double *rptr = &result[i, 0]\n",
    "        cdef double* tmp = &f.rhs(result[j, :], t)[0]\n",
    "\n",
    "        # compute k1 and the next step\n",
    "        for n in range(self.N):\n",
    "            self.k1p[n] = dt * tmp[n]\n",
    "            self.tmpp[n] = pptr[n] + 0.5 * self.k1p[n]\n",
    "\n",
    "        # compute k2 and the next step\n",
    "        tmp = &f.rhs(self.tmp, t + 0.5 * dt)[0]\n",
    "        for n in range(self.N):\n",
    "            self.k2p[n] = dt * tmp[n]\n",
    "            self.tmpp[n] = pptr[n] + 0.5 * self.k2p[n]\n",
    "\n",
    "        # compute k3 and the next step\n",
    "        tmp = &f.rhs(self.tmp, t + 0.5 * dt)[0]\n",
    "        for n in range(self.N):\n",
    "            self.k3p[n] = dt * tmp[n]\n",
    "            self.tmpp[n] = pptr[n] + self.k3p[n]\n",
    "\n",
    "        # compute k4 and combine into result\n",
    "        tmp = &f.rhs(self.tmp, t + dt)[0]\n",
    "        for n in range(self.N):\n",
    "            rptr[n] = pptr[n] + 1.0/6.0 * (\n",
    "                    self.k1p[n] + 2.0 * self.k2p[n] + 2.0 * self.k3p[n] + dt * tmp[n])\n",
    "\n",
    "\n",
    "@cython.boundscheck(False)\n",
    "@cython.cdivision(True)\n",
    "cdef double[:,:] __ODEsolve(Method method, Problem f, double a, double b, int N, double[::1] yInit):\n",
    "    cdef double dt = (b - a) / N\n",
    "    cdef double[:,::1] result = np.zeros((N+1, f.N), dtype=np.double)\n",
    "\n",
    "    result[0, :] = yInit\n",
    "\n",
    "    cdef double t\n",
    "    cdef int i\n",
    "    for i in range(1, N+1):\n",
    "        t = a + i * dt\n",
    "        method.step(result, i, i-1, f, t, dt)\n",
    "\n",
    "    return result\n",
    "\n",
    "cpdef double[:,:] ODEsolve(Problem f, double a, double b, int N, double[::1] yInit):\n",
    "    cdef Method method = MethodRK4(f.N)\n",
    "    return __ODEsolve(method, f, a, b, N, yInit)\n",
    "\n",
    "cdef class L63(Problem):\n",
    "    cdef double[:] para\n",
    "    \n",
    "    def __init__(self, double[:] para):\n",
    "        super(L63, self).__init__(3)\n",
    "        self.para = para\n",
    "\n",
    "    @cython.boundscheck(False)\n",
    "    @cython.wraparound(False)\n",
    "    cpdef double[:] rhs(self, double[:] u, double t):\n",
    "        self.dudt[0] = self.para[0] * (u[1] - u[0])\n",
    "        self.dudt[1] = -u[0] * u[2] + self.para[2] * u[0] - u[1]\n",
    "        self.dudt[2] = u[0] * u[1] - self.para[1] * u[2]\n",
    "        return self.dudt"
   ]
  },
  {
   "cell_type": "code",
   "execution_count": 3,
   "metadata": {},
   "outputs": [],
   "source": [
    "\n",
    "\n",
    "# def some functions to handle the solver\n",
    "\n",
    "class ODE_Solution(object):\n",
    "    def __init__(self, t, y):\n",
    "        self.t = t\n",
    "        self.y = y\n",
    "\n",
    "def solve_L63(p=np.array([10., 8./3., 13.926]), u0=[1,0,0], t_stop=1000, t_steps=100000):\n",
    "    a = 0\n",
    "    b = t_stop\n",
    "    N = t_steps\n",
    "    t = np.linspace(a, b, N+1)\n",
    "    u0 = np.asarray(u0, dtype=float)\n",
    "    solution = ODEsolve(L63(p), a, b, N, u0)\n",
    "    \n",
    "    return ODE_Solution(t, solution)\n",
    "\n",
    "def u_fix(r, b=8./3.):\n",
    "    u_0 = [0, 0, 0]\n",
    "    u_p = [ np.sqrt(b * (r - 1)),  np.sqrt(b * (r - 1)), r - 1]\n",
    "    u_m = [-np.sqrt(b * (r - 1)), -np.sqrt(b * (r - 1)), r - 1]\n",
    "    return [u_0, u_p, u_m]"
   ]
  },
  {
   "cell_type": "markdown",
   "metadata": {},
   "source": [
    "# 3) #"
   ]
  },
  {
   "cell_type": "code",
   "execution_count": 7,
   "metadata": {},
   "outputs": [],
   "source": [
    "x = np.arange(-10,10,0.5)\n",
    "y = np.arange(-10,10,0.5)\n",
    "\n",
    "hit = 1e-4\n",
    "\n",
    "Pr = 10\n",
    "b = 8/3\n",
    "r = 13.926\n",
    "\n",
    "ufix = u_fix(r,b)"
   ]
  },
  {
   "cell_type": "code",
   "execution_count": null,
   "metadata": {},
   "outputs": [],
   "source": []
  },
  {
   "cell_type": "code",
   "execution_count": 8,
   "metadata": {},
   "outputs": [],
   "source": [
    "color = []\n",
    "\n",
    "for i in x:\n",
    "    new= []\n",
    "    for k in y:\n",
    "        solution = solve_L63(p=np.array(([Pr,b,r])), u0=[i,k,0])\n",
    "        #print(solution.y[-1,:])\n",
    "        if norm(solution.y[-1,:] - np.asarray(ufix[0]))<= hit:\n",
    "            new.append(1)\n",
    "        elif norm(solution.y[-1,:] - np.asarray(ufix[1]))<= hit:\n",
    "            new.append(2)\n",
    "        elif norm(solution.y[-1,:] - np.asarray(ufix[2]))<= hit:\n",
    "            new.append(3)\n",
    "        else:\n",
    "            new.append(0)\n",
    "    color.append(new)"
   ]
  },
  {
   "cell_type": "code",
   "execution_count": 9,
   "metadata": {},
   "outputs": [
    {
     "data": {
      "text/plain": [
       "<matplotlib.colorbar.Colorbar at 0x2720fff7a90>"
      ]
     },
     "execution_count": 9,
     "metadata": {},
     "output_type": "execute_result"
    },
    {
     "data": {
      "image/png": "[encoded data removed]",
      "text/plain": [
       "<Figure size 432x288 with 2 Axes>"
      ]
     },
     "metadata": {
      "needs_background": "light"
     },
     "output_type": "display_data"
    }
   ],
   "source": [
    "cmap = mpl.colors.ListedColormap(['white','yellow','orange','red'])\n",
    "bounds=[0,1,2,3,4]\n",
    "norm = mpl.colors.BoundaryNorm(bounds, cmap.N)\n",
    "\n",
    "img = plt.imshow(color,interpolation='nearest',\n",
    "                    cmap = cmap,norm=norm)\n",
    "plt.colorbar(img,cmap=cmap,\n",
    "                norm=norm,boundaries=bounds,ticks=[0,1,2,3])\n",
    "\n"
   ]
  },
  {
   "cell_type": "markdown",
   "metadata": {},
   "source": [
    "# The axes run from -10 to 10, due to some issues the point (0,0,0) is at (20,20). The colorcode ist yellow for u0, orange u+ and red u-. #"
   ]
  },
  {
   "cell_type": "code",
   "execution_count": 4,
   "metadata": {},
   "outputs": [],
   "source": [
    "x = np.arange(-10,10,0.5)\n",
    "y = np.arange(-10,10,0.5)\n",
    "\n",
    "hit = 1e-4\n",
    "\n",
    "Pr = 10\n",
    "b = 8/3\n",
    "r =24.06\n",
    "\n",
    "ufix = u_fix(r,b)"
   ]
  },
  {
   "cell_type": "code",
   "execution_count": 5,
   "metadata": {},
   "outputs": [],
   "source": [
    "color = []\n",
    "\n",
    "for i in x:\n",
    "    new= []\n",
    "    for k in y:\n",
    "        solution = solve_L63(p=np.array(([Pr,b,r])), u0=[i,k,0])\n",
    "        #print(solution.y[-1,:])\n",
    "        if norm(solution.y[-1,:] - np.asarray(ufix[0]))<= hit:\n",
    "            new.append(1)\n",
    "        elif norm(solution.y[-1,:] - np.asarray(ufix[1]))<= hit:\n",
    "            new.append(2)\n",
    "        elif norm(solution.y[-1,:] - np.asarray(ufix[2]))<= hit:\n",
    "            new.append(3)\n",
    "        else:\n",
    "            new.append(0)\n",
    "    color.append(new)"
   ]
  },
  {
   "cell_type": "code",
   "execution_count": 6,
   "metadata": {},
   "outputs": [
    {
     "data": {
      "text/plain": [
       "<matplotlib.colorbar.Colorbar at 0x14c6a9ee240>"
      ]
     },
     "execution_count": 6,
     "metadata": {},
     "output_type": "execute_result"
    },
    {
     "data": {
      "image/png": "[encoded data removed]",
      "text/plain": [
       "<Figure size 432x288 with 2 Axes>"
      ]
     },
     "metadata": {
      "needs_background": "light"
     },
     "output_type": "display_data"
    }
   ],
   "source": [
    "cmap = mpl.colors.ListedColormap(['white','yellow','orange','red'])\n",
    "bounds=[0,1,2,3,4]\n",
    "norm = mpl.colors.BoundaryNorm(bounds, cmap.N)\n",
    "\n",
    "img = plt.imshow(color,interpolation='nearest',\n",
    "                    cmap = cmap,norm=norm)\n",
    "plt.colorbar(img,cmap=cmap,\n",
    "                norm=norm,boundaries=bounds,ticks=[0,1,2,3])"
   ]
  },
  {
   "cell_type": "code",
   "execution_count": 4,
   "metadata": {},
   "outputs": [],
   "source": [
    "x = np.arange(-10,10,0.5)\n",
    "y = np.arange(-10,10,0.5)\n",
    "\n",
    "hit = 1e-4\n",
    "\n",
    "Pr = 10\n",
    "b = 8/3\n",
    "r =24.7\n",
    "\n",
    "ufix = u_fix(r,b)"
   ]
  },
  {
   "cell_type": "code",
   "execution_count": 5,
   "metadata": {},
   "outputs": [],
   "source": [
    "color = []\n",
    "\n",
    "for i in x:\n",
    "    new= []\n",
    "    for k in y:\n",
    "        solution = solve_L63(p=np.array(([Pr,b,r])), u0=[i,k,0])\n",
    "        #print(solution.y[-1,:])\n",
    "        if norm(solution.y[-1,:] - np.asarray(ufix[0]))<= hit:\n",
    "            new.append(1)\n",
    "        elif norm(solution.y[-1,:] - np.asarray(ufix[1]))<= hit:\n",
    "            new.append(2)\n",
    "        elif norm(solution.y[-1,:] - np.asarray(ufix[2]))<= hit:\n",
    "            new.append(3)\n",
    "        else:\n",
    "            new.append(0)\n",
    "    color.append(new)"
   ]
  },
  {
   "cell_type": "code",
   "execution_count": 6,
   "metadata": {},
   "outputs": [
    {
     "data": {
      "text/plain": [
       "<matplotlib.colorbar.Colorbar at 0x1965adc9208>"
      ]
     },
     "execution_count": 6,
     "metadata": {},
     "output_type": "execute_result"
    },
    {
     "data": {
      "image/png": "[encoded data removed]",
      "text/plain": [
       "<Figure size 432x288 with 2 Axes>"
      ]
     },
     "metadata": {
      "needs_background": "light"
     },
     "output_type": "display_data"
    }
   ],
   "source": [
    "cmap = mpl.colors.ListedColormap(['white','yellow','orange','red'])\n",
    "bounds=[0,1,2,3,4]\n",
    "norm = mpl.colors.BoundaryNorm(bounds, cmap.N)\n",
    "\n",
    "img = plt.imshow(color,interpolation='nearest',\n",
    "                    cmap = cmap,norm=norm)\n",
    "plt.colorbar(img,cmap=cmap,\n",
    "                norm=norm,boundaries=bounds,ticks=[0,1,2,3])"
   ]
  },
  {
   "cell_type": "code",
   "execution_count": null,
   "metadata": {},
   "outputs": [],
   "source": []
  }
 ],
 "metadata": {
  "kernelspec": {
   "display_name": "Python 3",
   "language": "python",
   "name": "python3"
  },
  "language_info": {
   "codemirror_mode": {
    "name": "ipython",
    "version": 3
   },
   "file_extension": ".py",
   "mimetype": "text/x-python",
   "name": "python",
   "nbconvert_exporter": "python",
   "pygments_lexer": "ipython3",
   "version": "3.7.3"
  }
 },
 "nbformat": 4,
 "nbformat_minor": 2
}
